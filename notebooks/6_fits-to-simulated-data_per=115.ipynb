{
 "cells": [
  {
   "cell_type": "markdown",
   "metadata": {},
   "source": [
    "### Imports and defining some functions "
   ]
  },
  {
   "cell_type": "code",
   "execution_count": 1,
   "metadata": {},
   "outputs": [
    {
     "name": "stdout",
     "output_type": "stream",
     "text": [
      "Populating the interactive namespace from numpy and matplotlib\n"
     ]
    }
   ],
   "source": [
    "%pylab inline\n",
    "#%load_ext line_profiler\n",
    "import exoplanet as xo\n",
    "import pandas as pd\n",
    "import pymc3 as pm\n",
    "import theano.tensor as tt\n",
    "import seaborn as sns\n",
    "sns.set_context('paper',font_scale=0.8)\n",
    "sns.set_style('ticks')\n",
    "rcParams['figure.dpi'] = 160\n",
    "def _tfold(t, per, tc):\n",
    "    return np.mod(((t - tc) + 0.5 * per),per) -  0.5 * per\n",
    "\n",
    "texp_lc = 0.02\n",
    "texp_sc = texp_lc/30"
   ]
  },
  {
   "cell_type": "code",
   "execution_count": 2,
   "metadata": {},
   "outputs": [],
   "source": [
    "rcParams['figure.dpi'] = 160 # execute twice"
   ]
  },
  {
   "cell_type": "markdown",
   "metadata": {},
   "source": [
    "## Generate Long and Short Cadence Light Curve"
   ]
  },
  {
   "cell_type": "code",
   "execution_count": 6,
   "metadata": {},
   "outputs": [],
   "source": [
    "np.random.seed(42)\n",
    "per = 11.512312 * 10\n",
    "b=0.9\n",
    "r=0.0244\n",
    "\n",
    "truth = dict(per=per, tc=5.124124,b=b, r=r, ecc=0.0, omega=90)\n",
    "u = np.array([0.4451, 0.2297])\n",
    "\n",
    "yerr_lc = 2e-4 / 1.48\n",
    "yerr_sc = yerr_lc*sqrt(texp_lc/texp_sc)\n",
    "\n",
    "t_sc = np.arange(0, 1400, texp_sc)\n",
    "orbit0 = xo.orbits.KeplerianOrbit(\n",
    "    period=truth['per'], \n",
    "    t0=truth['tc'], \n",
    "    b=truth['b'], \n",
    "    ecc=truth['ecc'],\n",
    "    omega=truth['omega'],\n",
    "    rho_star = 1 # grams per / cc\n",
    ")\n",
    "\n",
    "#\n",
    "model_sc = xo.LimbDarkLightCurve(u).get_light_curve(orbit=orbit0, r=truth['r'], t=t_sc,texp=0.02/30).eval()\n",
    "model_sc = model_sc.flatten()\n",
    "data_sc = (model_sc + yerr_sc * np.random.randn(*model_sc.shape)).reshape(-1) # need this for single planet fit\n",
    "tfold_sc = _tfold(t_sc, truth['per'],truth['tc'])\n",
    "data_lc = data_sc.reshape(-1,30).mean(axis=1)\n",
    "model_lc = model_sc.reshape(-1,30).mean(axis=1)\n",
    "t_lc = t_sc.reshape(-1,30).mean(axis=1)\n",
    "\n",
    "bcut = abs(tfold_sc) < 0.2\n",
    "t_sc = t_sc[bcut]\n",
    "model_sc = model_sc[bcut]\n",
    "data_sc = data_sc[bcut]\n",
    "tfold_sc = tfold_sc[bcut]\n",
    "isort_sc = argsort(tfold_sc)\n",
    "\n",
    "tfold_lc = _tfold(t_lc, truth['per'],truth['tc'])\n",
    "bcut = abs(tfold_lc) < 0.2\n",
    "t_lc = t_lc[bcut]\n",
    "model_lc = model_lc[bcut]\n",
    "data_lc = data_lc[bcut]\n",
    "tfold_lc = tfold_lc[bcut]\n",
    "isort_lc = argsort(tfold_lc)\n"
   ]
  },
  {
   "cell_type": "code",
   "execution_count": 11,
   "metadata": {},
   "outputs": [
    {
     "name": "stderr",
     "output_type": "stream",
     "text": [
      "optimizing logp for variables: [r]\n",
      "14it [00:00, 27.42it/s, logp=1.793861e+03] \n",
      "message: Optimization terminated successfully.\n",
      "logp: -44414.86476385265 -> 1793.8610159270747\n",
      "optimizing logp for variables: [logrho, r]\n",
      "17it [00:00, 37.46it/s, logp=2.074063e+03] \n",
      "message: Optimization terminated successfully.\n",
      "logp: 1793.8610159270747 -> 2074.0632284961875\n"
     ]
    },
    {
     "name": "stdout",
     "output_type": "stream",
     "text": [
      "{'r_interval__': array(-1.38455703), 'logrho_interval__': array(0.21357041), 'r': array(0.02002781), 'logrho': array(1.06381155), 'rho': array(11.58274659), 'light_curve': array([ 0.00000000e+00,  0.00000000e+00,  0.00000000e+00,  0.00000000e+00,\n",
      "        0.00000000e+00, -8.92112778e-05, -3.75407695e-04, -4.43920361e-04,\n",
      "       -4.75552911e-04, -4.89866503e-04, -4.92286471e-04, -4.83605007e-04,\n",
      "       -4.60823912e-04, -4.13364036e-04, -2.43647508e-04,  0.00000000e+00,\n",
      "        0.00000000e+00,  0.00000000e+00,  0.00000000e+00,  0.00000000e+00,\n",
      "        0.00000000e+00,  0.00000000e+00,  0.00000000e+00,  0.00000000e+00,\n",
      "        0.00000000e+00, -4.32622401e-05, -3.56768353e-04, -4.36595194e-04,\n",
      "       -4.71992324e-04, -4.88485940e-04, -4.92619516e-04, -4.85758236e-04,\n",
      "       -4.65582756e-04, -4.23354917e-04, -3.03046075e-04, -2.19964013e-07,\n",
      "        0.00000000e+00,  0.00000000e+00,  0.00000000e+00,  0.00000000e+00,\n",
      "        0.00000000e+00,  0.00000000e+00,  0.00000000e+00,  0.00000000e+00,\n",
      "       -6.93562664e-06, -3.30245044e-04, -4.28358192e-04, -4.67995192e-04,\n",
      "       -4.86813291e-04, -4.92691520e-04, -4.87597857e-04, -4.69838344e-04,\n",
      "       -4.32162152e-04, -3.44192755e-04, -2.08541967e-05,  0.00000000e+00,\n",
      "        0.00000000e+00,  0.00000000e+00,  0.00000000e+00,  0.00000000e+00,\n",
      "        0.00000000e+00,  0.00000000e+00,  0.00000000e+00,  0.00000000e+00,\n",
      "        0.00000000e+00, -2.76327392e-04, -4.19048651e-04, -4.63520705e-04,\n",
      "       -4.84835460e-04, -4.92503006e-04, -4.89138478e-04, -4.73635711e-04,\n",
      "       -4.39974233e-04, -3.65617687e-04, -6.30819181e-05,  0.00000000e+00,\n",
      "        0.00000000e+00,  0.00000000e+00,  0.00000000e+00,  0.00000000e+00,\n",
      "        0.00000000e+00,  0.00000000e+00,  0.00000000e+00,  0.00000000e+00,\n",
      "        0.00000000e+00, -2.17793389e-04, -4.08450249e-04, -4.58520020e-04,\n",
      "       -4.82536546e-04, -4.92052601e-04, -4.90392037e-04, -4.77012592e-04,\n",
      "       -4.46933496e-04, -3.82577928e-04, -1.11415037e-04,  0.00000000e+00,\n",
      "        0.00000000e+00,  0.00000000e+00,  0.00000000e+00,  0.00000000e+00,\n",
      "        0.00000000e+00,  0.00000000e+00,  0.00000000e+00,  0.00000000e+00,\n",
      "        0.00000000e+00, -1.62003442e-04, -3.96257878e-04, -4.52934217e-04,\n",
      "       -4.79897476e-04, -4.91337005e-04, -4.91368054e-04, -4.80000740e-04,\n",
      "       -4.53150651e-04, -3.96738869e-04, -1.63997350e-04,  0.00000000e+00,\n",
      "        0.00000000e+00,  0.00000000e+00,  0.00000000e+00,  0.00000000e+00,\n",
      "        0.00000000e+00,  0.00000000e+00,  0.00000000e+00,  0.00000000e+00,\n",
      "        0.00000000e+00, -1.09557620e-04, -3.82010362e-04, -4.46691465e-04,\n",
      "       -4.76895544e-04, -4.90350930e-04, -4.92073823e-04, -4.82626930e-04,\n",
      "       -4.58713768e-04, -4.08865757e-04, -2.19899317e-04,  0.00000000e+00,\n",
      "        0.00000000e+00,  0.00000000e+00,  0.00000000e+00,  0.00000000e+00,\n",
      "        0.00000000e+00,  0.00000000e+00,  0.00000000e+00,  0.00000000e+00,\n",
      "        0.00000000e+00, -6.14037612e-05, -3.64925025e-04, -4.39702980e-04,\n",
      "       -4.73503804e-04, -4.89087004e-04, -4.92514556e-04, -4.84913727e-04,\n",
      "       -4.63694140e-04, -4.19412074e-04, -2.78527098e-04,  0.00000000e+00,\n",
      "        0.00000000e+00,  0.00000000e+00,  0.00000000e+00,  0.00000000e+00,\n",
      "        0.00000000e+00,  0.00000000e+00,  0.00000000e+00,  0.00000000e+00,\n",
      "        0.00000000e+00, -1.94741110e-05, -3.43265529e-04, -4.31857074e-04,\n",
      "       -4.69690304e-04, -4.87535620e-04, -4.92693482e-04, -4.86880079e-04,\n",
      "       -4.68150273e-04, -4.28678783e-04, -3.31657910e-04, -7.80007701e-06,\n",
      "        0.00000000e+00,  0.00000000e+00,  0.00000000e+00,  0.00000000e+00,\n",
      "        0.00000000e+00,  0.00000000e+00,  0.00000000e+00,  0.00000000e+00,\n",
      "       -1.27953376e-07, -3.00906543e-04, -4.23010017e-04, -4.65417068e-04,\n",
      "       -4.85684749e-04, -4.92611906e-04, -4.88541777e-04, -4.72130683e-04,\n",
      "       -4.36879699e-04, -3.57533630e-04, -4.48398720e-05,  0.00000000e+00,\n",
      "        0.00000000e+00,  0.00000000e+00,  0.00000000e+00,  0.00000000e+00,\n",
      "        0.00000000e+00,  0.00000000e+00,  0.00000000e+00,  0.00000000e+00,\n",
      "        0.00000000e+00, -2.41503855e-04, -4.12971230e-04, -4.60638759e-04,\n",
      "       -4.83519679e-04, -4.92269232e-04, -4.89911821e-04, -4.75675915e-04,\n",
      "       -4.44173894e-04, -3.76020244e-04, -9.10010531e-05,  0.00000000e+00,\n",
      "        0.00000000e+00,  0.00000000e+00,  0.00000000e+00,  0.00000000e+00,\n",
      "        0.00000000e+00,  0.00000000e+00,  0.00000000e+00,  0.00000000e+00,\n",
      "        0.00000000e+00, -1.84525159e-04, -4.01477544e-04, -4.55300885e-04,\n",
      "       -4.81022688e-04, -4.91662957e-04, -4.91000696e-04, -4.78820040e-04,\n",
      "       -4.50683721e-04, -3.91208971e-04, -1.41982854e-04,  0.00000000e+00,\n",
      "        0.00000000e+00,  0.00000000e+00,  0.00000000e+00,  0.00000000e+00,\n",
      "        0.00000000e+00,  0.00000000e+00,  0.00000000e+00,  0.00000000e+00,\n",
      "        0.00000000e+00, -1.30617496e-04, -3.88143746e-04, -4.49337317e-04,\n",
      "       -4.78172626e-04, -4.90788618e-04, -4.91816589e-04, -4.81591772e-04,\n",
      "       -4.56505689e-04, -4.04103121e-04, -1.96607195e-04,  0.00000000e+00,\n",
      "        0.00000000e+00,  0.00000000e+00,  0.00000000e+00,  0.00000000e+00])}\n"
     ]
    },
    {
     "data": {
      "image/png": "[encoded data removed]",
      "text/plain": [
       "<Figure size 400x320 with 2 Axes>"
      ]
     },
     "metadata": {},
     "output_type": "display_data"
    }
   ],
   "source": [
    "# Plot long cadence light curve\n",
    "\n",
    "with pm.Model() as xo_model_lc:\n",
    "    mean = 0\n",
    "    r = pm.Uniform(\"r\", lower=0.00, upper=0.1, testval=0.05)\n",
    "    b = 0 \n",
    "    logrho = pm.Uniform(\"logrho\", lower=-10, upper=10, testval=0)\n",
    "    rho = pm.Deterministic(\"rho\", 10**logrho)\n",
    "    orbit = xo.orbits.KeplerianOrbit(period=truth['per'], t0=truth['tc'], b=b, rho_star=rho)\n",
    "    light_curves = xo.LimbDarkLightCurve(u).get_light_curve(orbit=orbit, r=r, t=t_lc, texp=0.02, oversample=100,order=2) \n",
    "    light_curve = pm.math.sum(light_curves, axis=-1) + mean\n",
    "    pm.Deterministic(\"light_curve\", light_curve)\n",
    "    pm.Normal(\"obs\", mu=light_curve, sd=yerr_lc, observed=model_lc)\n",
    "    map_soln = xo.optimize(start=xo_model_lc.test_point,vars=[r])\n",
    "    map_soln = xo.optimize(start=map_soln)\n",
    "\n",
    "print(map_soln)\n",
    "\n",
    "def plotter(t, y1, y2):\n",
    "    fig = figure(figsize=(2.5,2))\n",
    "    gs = GridSpec(3, 1, figure=fig)\n",
    "    ax1 = fig.add_subplot(gs[0:-1])\n",
    "    # identical to ax1 = plt.subplot(gs.new_subplotspec((0, 0), colspan=3))\n",
    "    ax2 = fig.add_subplot(gs[-1],sharex=ax1)\n",
    "\n",
    "    sca(ax1)\n",
    "    plt.plot(t, y1, color=\"C1\",ls='--',)\n",
    "    ylabel('Intensity (ppm)')\n",
    "    plot(t,y2, color=\"C2\",ls='-.',)\n",
    "    plt.setp(ax1.get_xticklabels(), visible=False)\n",
    "    ylim(-575,175)\n",
    "    sca(ax2)\n",
    "    difference = y1 - y2\n",
    "\n",
    "    plot(t,difference, label=\"long cadence b =0 \",marker=',')\n",
    "    ylabel('Diff.')\n",
    "    xlabel('Time Since Mid-Transit (days)')\n",
    "    tight_layout()\n",
    "\n",
    "\n",
    "t = tfold_lc[isort_lc]\n",
    "y1 =  model_lc[isort_lc] * 1e6\n",
    "y2 = map_soln[\"light_curve\"][isort_lc] * 1e6\n",
    "plotter(t, y1, y2)\n",
    "ylim(-100,100)\n",
    "fig = gcf()\n",
    "fig.subplots_adjust(hspace=0)\n",
    "gcf().savefig('../paper/fig_diagram-lc_per=115.pdf')\n"
   ]
  },
  {
   "cell_type": "code",
   "execution_count": 8,
   "metadata": {},
   "outputs": [
    {
     "name": "stderr",
     "output_type": "stream",
     "text": [
      "optimizing logp for variables: [r]\n",
      "0it [00:00, ?it/s]/Users/petigura/anaconda2/envs/py37/lib/python3.7/site-packages/theano/tensor/subtensor.py:2197: FutureWarning: Using a non-tuple sequence for multidimensional indexing is deprecated; use `arr[tuple(seq)]` instead of `arr[seq]`. In the future this will be interpreted as an array index, `arr[np.array(seq)]`, which will result either in an error or a different result.\n",
      "  rval = inputs[0].__getitem__(inputs[1:])\n",
      "8it [00:00, 486.77it/s, logp=4.860583e+04]/Users/petigura/anaconda2/envs/py37/lib/python3.7/site-packages/theano/tensor/subtensor.py:2197: FutureWarning: Using a non-tuple sequence for multidimensional indexing is deprecated; use `arr[tuple(seq)]` instead of `arr[seq]`. In the future this will be interpreted as an array index, `arr[np.array(seq)]`, which will result either in an error or a different result.\n",
      "  rval = inputs[0].__getitem__(inputs[1:])\n",
      "9it [00:00, 18.35it/s, logp=4.860583e+04] \n",
      "message: Optimization terminated successfully.\n",
      "logp: 48604.06200978561 -> 48605.827274868934\n",
      "optimizing logp for variables: [logrho, r]\n",
      "0it [00:00, ?it/s]/Users/petigura/anaconda2/envs/py37/lib/python3.7/site-packages/theano/tensor/subtensor.py:2197: FutureWarning: Using a non-tuple sequence for multidimensional indexing is deprecated; use `arr[tuple(seq)]` instead of `arr[seq]`. In the future this will be interpreted as an array index, `arr[np.array(seq)]`, which will result either in an error or a different result.\n",
      "  rval = inputs[0].__getitem__(inputs[1:])\n",
      "64it [00:00, 287.36it/s, logp=4.905438e+04]/Users/petigura/anaconda2/envs/py37/lib/python3.7/site-packages/theano/tensor/subtensor.py:2197: FutureWarning: Using a non-tuple sequence for multidimensional indexing is deprecated; use `arr[tuple(seq)]` instead of `arr[seq]`. In the future this will be interpreted as an array index, `arr[np.array(seq)]`, which will result either in an error or a different result.\n",
      "  rval = inputs[0].__getitem__(inputs[1:])\n",
      "76it [00:00, 287.36it/s, logp=4.905438e+04]/Users/petigura/anaconda2/envs/py37/lib/python3.7/site-packages/theano/tensor/subtensor.py:2197: FutureWarning: Using a non-tuple sequence for multidimensional indexing is deprecated; use `arr[tuple(seq)]` instead of `arr[seq]`. In the future this will be interpreted as an array index, `arr[np.array(seq)]`, which will result either in an error or a different result.\n",
      "  rval = inputs[0].__getitem__(inputs[1:])\n",
      "77it [00:00, 103.59it/s, logp=4.905438e+04]\n",
      "message: Desired error not necessarily achieved due to precision loss.\n",
      "logp: 48605.827274868934 -> 49054.38375204278\n"
     ]
    },
    {
     "name": "stdout",
     "output_type": "stream",
     "text": [
      "{'r_interval__': array(-1.38699785), 'logrho_interval__': array(0.21347912), 'r': array(0.01998875), 'logrho': array(1.06336027), 'rho': array(11.57071688), 'light_curve': array([0., 0., 0., ..., 0., 0., 0.])}\n"
     ]
    },
    {
     "data": {
      "image/png": "[encoded data removed]",
      "text/plain": [
       "<Figure size 400x320 with 2 Axes>"
      ]
     },
     "metadata": {},
     "output_type": "display_data"
    }
   ],
   "source": [
    "with pm.Model() as xo_model_sc:\n",
    "    mean = 0\n",
    "    r = pm.Uniform(\"r\", lower=0.00, upper=0.1, testval=0.02)\n",
    "    b = 0 \n",
    "    logrho = pm.Uniform(\"logrho\", lower=-10, upper=10, testval=3)\n",
    "    rho = pm.Deterministic(\"rho\", 10**logrho)\n",
    "    orbit = xo.orbits.KeplerianOrbit(period=truth['per'], t0=truth['tc'], b=b, rho_star=rho)\n",
    "    light_curves = xo.LimbDarkLightCurve(u).get_light_curve(orbit=orbit, r=r, t=t_sc, texp=None)\n",
    "    light_curve = pm.math.sum(light_curves, axis=-1) + mean\n",
    "    pm.Deterministic(\"light_curve\", light_curve)\n",
    "    pm.Normal(\"obs\", mu=light_curve, sd=yerr_sc, observed=model_sc)\n",
    "    map_soln = xo.optimize(start=xo_model_sc.test_point,vars=[r])\n",
    "    map_soln = xo.optimize(start=map_soln)\n",
    "\n",
    "print(map_soln)\n",
    "\n",
    "t = tfold_sc[isort_sc]\n",
    "y1 =  model_sc[isort_sc] * 1e6\n",
    "y2 = map_soln[\"light_curve\"][isort_sc] * 1e6\n",
    "plotter(t, y1, y2)\n",
    "ylim(-150,150)\n",
    "fig = gcf()\n",
    "fig.subplots_adjust(hspace=0)\n",
    "gcf().savefig('../paper/fig_diagram-sc_per=115.pdf')\n"
   ]
  },
  {
   "cell_type": "code",
   "execution_count": null,
   "metadata": {},
   "outputs": [],
   "source": [
    "plot(t_sc,model_sc,',')\n",
    "xlim(0,10)"
   ]
  },
  {
   "cell_type": "code",
   "execution_count": null,
   "metadata": {},
   "outputs": [],
   "source": []
  }
 ],
 "metadata": {
  "kernelspec": {
   "display_name": "Python 3",
   "language": "python",
   "name": "python3"
  },
  "language_info": {
   "codemirror_mode": {
    "name": "ipython",
    "version": 3
   },
   "file_extension": ".py",
   "mimetype": "text/x-python",
   "name": "python",
   "nbconvert_exporter": "python",
   "pygments_lexer": "ipython3",
   "version": "3.7.4"
  }
 },
 "nbformat": 4,
 "nbformat_minor": 2
}
