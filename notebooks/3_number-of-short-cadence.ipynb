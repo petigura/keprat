{
 "cells": [
  {
   "cell_type": "code",
   "execution_count": 1,
   "metadata": {},
   "outputs": [
    {
     "data": {
      "text/plain": [
       "<module 'keprat.io' from 'keprat/io.pyc'>"
      ]
     },
     "execution_count": 1,
     "metadata": {},
     "output_type": "execute_result"
    }
   ],
   "source": [
    "import pandas as pd\n",
    "import sys\n",
    "sys.path.append('/Users/petigura/Research/CKS-Cool/')\n",
    "import keprat.io\n",
    "reload(keprat.io)"
   ]
  },
  {
   "cell_type": "code",
   "execution_count": 2,
   "metadata": {},
   "outputs": [
    {
     "name": "stdout",
     "output_type": "stream",
     "text": [
      "read table v18 from load_table_cache.hdf\n",
      "read table dr25 from load_table_cache.hdf\n"
     ]
    },
    {
     "ename": "AttributeError",
     "evalue": "'DataFrame' object has no attribute 'f18_kepmag'",
     "output_type": "error",
     "traceback": [
      "\u001b[0;31m---------------------------------------------------------------------------\u001b[0m",
      "\u001b[0;31mAttributeError\u001b[0m                            Traceback (most recent call last)",
      "\u001b[0;32m<ipython-input-2-2f1fb2e6621b>\u001b[0m in \u001b[0;36m<module>\u001b[0;34m()\u001b[0m\n\u001b[1;32m      1\u001b[0m \u001b[0mcks\u001b[0m \u001b[0;34m=\u001b[0m \u001b[0mkeprat\u001b[0m\u001b[0;34m.\u001b[0m\u001b[0mio\u001b[0m\u001b[0;34m.\u001b[0m\u001b[0mload_table\u001b[0m\u001b[0;34m(\u001b[0m\u001b[0;34m'cksgaia-planets'\u001b[0m\u001b[0;34m)\u001b[0m\u001b[0;34m\u001b[0m\u001b[0m\n\u001b[0;32m----> 2\u001b[0;31m \u001b[0mcks\u001b[0m\u001b[0;34m.\u001b[0m\u001b[0mf18_kepmag\u001b[0m\u001b[0;34m(\u001b[0m\u001b[0;34m)\u001b[0m\u001b[0;34m\u001b[0m\u001b[0m\n\u001b[0m",
      "\u001b[0;32m/Users/petigura/anaconda2/lib/python2.7/site-packages/pandas/core/generic.pyc\u001b[0m in \u001b[0;36m__getattr__\u001b[0;34m(self, name)\u001b[0m\n\u001b[1;32m   5065\u001b[0m             \u001b[0;32mif\u001b[0m \u001b[0mself\u001b[0m\u001b[0;34m.\u001b[0m\u001b[0m_info_axis\u001b[0m\u001b[0;34m.\u001b[0m\u001b[0m_can_hold_identifiers_and_holds_name\u001b[0m\u001b[0;34m(\u001b[0m\u001b[0mname\u001b[0m\u001b[0;34m)\u001b[0m\u001b[0;34m:\u001b[0m\u001b[0;34m\u001b[0m\u001b[0m\n\u001b[1;32m   5066\u001b[0m                 \u001b[0;32mreturn\u001b[0m \u001b[0mself\u001b[0m\u001b[0;34m[\u001b[0m\u001b[0mname\u001b[0m\u001b[0;34m]\u001b[0m\u001b[0;34m\u001b[0m\u001b[0m\n\u001b[0;32m-> 5067\u001b[0;31m             \u001b[0;32mreturn\u001b[0m \u001b[0mobject\u001b[0m\u001b[0;34m.\u001b[0m\u001b[0m__getattribute__\u001b[0m\u001b[0;34m(\u001b[0m\u001b[0mself\u001b[0m\u001b[0;34m,\u001b[0m \u001b[0mname\u001b[0m\u001b[0;34m)\u001b[0m\u001b[0;34m\u001b[0m\u001b[0m\n\u001b[0m\u001b[1;32m   5068\u001b[0m \u001b[0;34m\u001b[0m\u001b[0m\n\u001b[1;32m   5069\u001b[0m     \u001b[0;32mdef\u001b[0m \u001b[0m__setattr__\u001b[0m\u001b[0;34m(\u001b[0m\u001b[0mself\u001b[0m\u001b[0;34m,\u001b[0m \u001b[0mname\u001b[0m\u001b[0;34m,\u001b[0m \u001b[0mvalue\u001b[0m\u001b[0;34m)\u001b[0m\u001b[0;34m:\u001b[0m\u001b[0;34m\u001b[0m\u001b[0m\n",
      "\u001b[0;31mAttributeError\u001b[0m: 'DataFrame' object has no attribute 'f18_kepmag'"
     ]
    }
   ],
   "source": [
    "cks = keprat.io.load_table('cksgaia-planets')\n",
    "cks.f18_kepmag()"
   ]
  },
  {
   "cell_type": "code",
   "execution_count": 73,
   "metadata": {},
   "outputs": [
    {
     "name": "stdout",
     "output_type": "stream",
     "text": [
      "Populating the interactive namespace from numpy and matplotlib\n"
     ]
    },
    {
     "name": "stderr",
     "output_type": "stream",
     "text": [
      "/Users/petigura/anaconda2/lib/python2.7/site-packages/ipykernel_launcher.py:2: FutureWarning: read_table is deprecated, use read_csv instead, passing sep='\\t'.\n",
      "  \n"
     ]
    },
    {
     "name": "stdout",
     "output_type": "stream",
     "text": [
      "Could not find cache file: load_table_cache.hdf\n",
      "Building cache...\n",
      "writing table v18 to cache\n"
     ]
    },
    {
     "name": "stderr",
     "output_type": "stream",
     "text": [
      "keprat/io.py:315: ParserWarning: Falling back to the 'python' engine because the 'c' engine does not support regex separators (separators > 1 char and different from '\\s+' are interpreted as regex); you can avoid this warning by specifying engine='python'.\n",
      "  columns = [c.split('-')[1] for c in columns]\n"
     ]
    },
    {
     "name": "stdout",
     "output_type": "stream",
     "text": [
      "Cache not built for table: dr25\n",
      "Building cache...\n"
     ]
    },
    {
     "ename": "AssertionError",
     "evalue": "table ckscool-targets-cuts not valid table name",
     "output_type": "error",
     "traceback": [
      "\u001b[0;31m---------------------------------------------------------------------------\u001b[0m",
      "\u001b[0;31mAssertionError\u001b[0m                            Traceback (most recent call last)",
      "\u001b[0;32m<ipython-input-73-9bc5d097f521>\u001b[0m in \u001b[0;36m<module>\u001b[0;34m()\u001b[0m\n\u001b[1;32m      2\u001b[0m \u001b[0msc\u001b[0m \u001b[0;34m=\u001b[0m \u001b[0mpd\u001b[0m\u001b[0;34m.\u001b[0m\u001b[0mread_table\u001b[0m\u001b[0;34m(\u001b[0m\u001b[0;34m'data/wget_all_prior_SC.bat'\u001b[0m\u001b[0;34m,\u001b[0m\u001b[0mcomment\u001b[0m\u001b[0;34m=\u001b[0m\u001b[0;34m'#'\u001b[0m\u001b[0;34m,\u001b[0m\u001b[0mheader\u001b[0m\u001b[0;34m=\u001b[0m\u001b[0mNone\u001b[0m\u001b[0;34m,\u001b[0m\u001b[0mnames\u001b[0m\u001b[0;34m=\u001b[0m\u001b[0;34m[\u001b[0m\u001b[0;34m'line'\u001b[0m\u001b[0;34m]\u001b[0m\u001b[0;34m)\u001b[0m\u001b[0;34m\u001b[0m\u001b[0m\n\u001b[1;32m      3\u001b[0m \u001b[0msc\u001b[0m\u001b[0;34m[\u001b[0m\u001b[0;34m'id_kic'\u001b[0m\u001b[0;34m]\u001b[0m \u001b[0;34m=\u001b[0m \u001b[0msc\u001b[0m\u001b[0;34m.\u001b[0m\u001b[0mline\u001b[0m\u001b[0;34m.\u001b[0m\u001b[0mapply\u001b[0m\u001b[0;34m(\u001b[0m\u001b[0;32mlambda\u001b[0m \u001b[0mx\u001b[0m \u001b[0;34m:\u001b[0m\u001b[0mx\u001b[0m\u001b[0;34m.\u001b[0m\u001b[0msplit\u001b[0m\u001b[0;34m(\u001b[0m\u001b[0;34m'\"'\u001b[0m\u001b[0;34m)\u001b[0m\u001b[0;34m[\u001b[0m\u001b[0;36m1\u001b[0m\u001b[0;34m]\u001b[0m\u001b[0;34m.\u001b[0m\u001b[0msplit\u001b[0m\u001b[0;34m(\u001b[0m\u001b[0;34m'/'\u001b[0m\u001b[0;34m)\u001b[0m\u001b[0;34m[\u001b[0m\u001b[0;34m-\u001b[0m\u001b[0;36m1\u001b[0m\u001b[0;34m]\u001b[0m\u001b[0;34m.\u001b[0m\u001b[0msplit\u001b[0m\u001b[0;34m(\u001b[0m\u001b[0;34m'-'\u001b[0m\u001b[0;34m)\u001b[0m\u001b[0;34m[\u001b[0m\u001b[0;36m0\u001b[0m\u001b[0;34m]\u001b[0m\u001b[0;34m.\u001b[0m\u001b[0mreplace\u001b[0m\u001b[0;34m(\u001b[0m\u001b[0;34m'kplr'\u001b[0m\u001b[0;34m,\u001b[0m\u001b[0;34m''\u001b[0m\u001b[0;34m)\u001b[0m\u001b[0;34m)\u001b[0m\u001b[0;34m.\u001b[0m\u001b[0mastype\u001b[0m\u001b[0;34m(\u001b[0m\u001b[0mint\u001b[0m\u001b[0;34m)\u001b[0m\u001b[0;34m\u001b[0m\u001b[0m\n\u001b[0;32m----> 4\u001b[0;31m \u001b[0mcks\u001b[0m \u001b[0;34m=\u001b[0m \u001b[0mkeprat\u001b[0m\u001b[0;34m.\u001b[0m\u001b[0mio\u001b[0m\u001b[0;34m.\u001b[0m\u001b[0mload_table\u001b[0m\u001b[0;34m(\u001b[0m\u001b[0;34m'cksgaia-planets'\u001b[0m\u001b[0;34m)\u001b[0m\u001b[0;34m\u001b[0m\u001b[0m\n\u001b[0m\u001b[1;32m      5\u001b[0m \u001b[0mcks\u001b[0m \u001b[0;34m=\u001b[0m \u001b[0mpd\u001b[0m\u001b[0;34m.\u001b[0m\u001b[0mmerge\u001b[0m\u001b[0;34m(\u001b[0m\u001b[0mcks\u001b[0m\u001b[0;34m,\u001b[0m\u001b[0msc\u001b[0m\u001b[0;34m,\u001b[0m\u001b[0mhow\u001b[0m\u001b[0;34m=\u001b[0m\u001b[0;34m'left'\u001b[0m\u001b[0;34m)\u001b[0m\u001b[0;34m\u001b[0m\u001b[0m\n\u001b[1;32m      6\u001b[0m \u001b[0mtemp\u001b[0m \u001b[0;34m=\u001b[0m \u001b[0mcks\u001b[0m\u001b[0;34m.\u001b[0m\u001b[0mgroupby\u001b[0m\u001b[0;34m(\u001b[0m\u001b[0;34m'id_koicand'\u001b[0m\u001b[0;34m)\u001b[0m\u001b[0;34m[\u001b[0m\u001b[0;34m'line'\u001b[0m\u001b[0;34m]\u001b[0m\u001b[0;34m.\u001b[0m\u001b[0mcount\u001b[0m\u001b[0;34m(\u001b[0m\u001b[0;34m)\u001b[0m\u001b[0;34m\u001b[0m\u001b[0m\n",
      "\u001b[0;32m/Users/petigura/Dropbox/Research/Kepler-Radius-Ratio/keprat/io.pyc\u001b[0m in \u001b[0;36mload_table\u001b[0;34m(table, cache, cachefn, verbose)\u001b[0m\n\u001b[1;32m    191\u001b[0m         \u001b[0;31m#)\u001b[0m\u001b[0;34m\u001b[0m\u001b[0;34m\u001b[0m\u001b[0m\n\u001b[1;32m    192\u001b[0m         \u001b[0mf18\u001b[0m \u001b[0;34m=\u001b[0m \u001b[0mload_table\u001b[0m\u001b[0;34m(\u001b[0m\u001b[0;34m'f18'\u001b[0m\u001b[0;34m)\u001b[0m\u001b[0;34m\u001b[0m\u001b[0m\n\u001b[0;32m--> 193\u001b[0;31m         \u001b[0mv18\u001b[0m \u001b[0;34m=\u001b[0m \u001b[0mload_table\u001b[0m\u001b[0;34m(\u001b[0m\u001b[0;34m'v18'\u001b[0m\u001b[0;34m,\u001b[0m\u001b[0mcachefn\u001b[0m\u001b[0;34m=\u001b[0m\u001b[0;34m'load_table_cache.hdf'\u001b[0m\u001b[0;34m,\u001b[0m\u001b[0mcache\u001b[0m\u001b[0;34m=\u001b[0m\u001b[0;36m1\u001b[0m\u001b[0;34m)\u001b[0m\u001b[0;34m\u001b[0m\u001b[0m\n\u001b[0m\u001b[1;32m    194\u001b[0m         \u001b[0mdr25\u001b[0m \u001b[0;34m=\u001b[0m \u001b[0mload_table\u001b[0m\u001b[0;34m(\u001b[0m\u001b[0;34m'dr25'\u001b[0m\u001b[0;34m,\u001b[0m\u001b[0mcache\u001b[0m\u001b[0;34m=\u001b[0m\u001b[0;36m1\u001b[0m\u001b[0;34m)\u001b[0m\u001b[0;34m\u001b[0m\u001b[0m\n\u001b[1;32m    195\u001b[0m         \u001b[0mm15\u001b[0m \u001b[0;34m=\u001b[0m \u001b[0mload_table\u001b[0m\u001b[0;34m(\u001b[0m\u001b[0;34m'm15'\u001b[0m\u001b[0;34m)\u001b[0m\u001b[0;34m\u001b[0m\u001b[0m\n",
      "\u001b[0;32m/Users/petigura/Dropbox/Research/Kepler-Radius-Ratio/keprat/io.pyc\u001b[0m in \u001b[0;36mload_table\u001b[0;34m(table, cache, cachefn, verbose)\u001b[0m\n\u001b[1;32m     48\u001b[0m \u001b[0;34m\u001b[0m\u001b[0m\n\u001b[1;32m     49\u001b[0m     \u001b[0;32mif\u001b[0m \u001b[0mcache\u001b[0m\u001b[0;34m==\u001b[0m\u001b[0;36m2\u001b[0m\u001b[0;34m:\u001b[0m\u001b[0;34m\u001b[0m\u001b[0m\n\u001b[0;32m---> 50\u001b[0;31m         \u001b[0mdf\u001b[0m \u001b[0;34m=\u001b[0m \u001b[0mload_table\u001b[0m\u001b[0;34m(\u001b[0m\u001b[0mtable\u001b[0m\u001b[0;34m,\u001b[0m \u001b[0mcache\u001b[0m\u001b[0;34m=\u001b[0m\u001b[0mFalse\u001b[0m\u001b[0;34m)\u001b[0m\u001b[0;34m\u001b[0m\u001b[0m\n\u001b[0m\u001b[1;32m     51\u001b[0m         \u001b[0;32mprint\u001b[0m \u001b[0;34m\"writing table {} to cache\"\u001b[0m\u001b[0;34m.\u001b[0m\u001b[0mformat\u001b[0m\u001b[0;34m(\u001b[0m\u001b[0mtable\u001b[0m\u001b[0;34m)\u001b[0m\u001b[0;34m\u001b[0m\u001b[0m\n\u001b[1;32m     52\u001b[0m         \u001b[0mdf\u001b[0m\u001b[0;34m.\u001b[0m\u001b[0mto_hdf\u001b[0m\u001b[0;34m(\u001b[0m\u001b[0mcachefn\u001b[0m\u001b[0;34m,\u001b[0m\u001b[0mtable\u001b[0m\u001b[0;34m,\u001b[0m\u001b[0mcomplevel\u001b[0m\u001b[0;34m=\u001b[0m\u001b[0;36m1\u001b[0m\u001b[0;34m,\u001b[0m\u001b[0mcomplib\u001b[0m\u001b[0;34m=\u001b[0m\u001b[0;34m'zlib'\u001b[0m\u001b[0;34m)\u001b[0m\u001b[0;34m\u001b[0m\u001b[0m\n",
      "\u001b[0;32m/Users/petigura/Dropbox/Research/Kepler-Radius-Ratio/keprat/io.pyc\u001b[0m in \u001b[0;36mload_table\u001b[0;34m(table, cache, cachefn, verbose)\u001b[0m\n\u001b[1;32m    155\u001b[0m         \u001b[0mfiles\u001b[0m \u001b[0;34m=\u001b[0m \u001b[0mglob\u001b[0m\u001b[0;34m.\u001b[0m\u001b[0mglob\u001b[0m\u001b[0;34m(\u001b[0m\u001b[0;34m'mcmc_chains/{}/*.n/mcmc*'\u001b[0m\u001b[0;34m.\u001b[0m\u001b[0mformat\u001b[0m\u001b[0;34m(\u001b[0m\u001b[0mtable\u001b[0m\u001b[0;34m)\u001b[0m\u001b[0;34m)\u001b[0m\u001b[0;34m\u001b[0m\u001b[0m\n\u001b[1;32m    156\u001b[0m         \u001b[0mid_koicands\u001b[0m \u001b[0;34m=\u001b[0m \u001b[0mget_id_koicands\u001b[0m\u001b[0;34m(\u001b[0m\u001b[0mfiles\u001b[0m\u001b[0;34m,\u001b[0m \u001b[0mtable\u001b[0m\u001b[0;34m)\u001b[0m\u001b[0;34m\u001b[0m\u001b[0m\n\u001b[0;32m--> 157\u001b[0;31m         \u001b[0mmcmc\u001b[0m \u001b[0;34m=\u001b[0m \u001b[0mpd\u001b[0m\u001b[0;34m.\u001b[0m\u001b[0mDataFrame\u001b[0m\u001b[0;34m(\u001b[0m\u001b[0mdict\u001b[0m\u001b[0;34m(\u001b[0m\u001b[0mid_koicand\u001b[0m\u001b[0;34m=\u001b[0m\u001b[0mid_koicands\u001b[0m\u001b[0;34m)\u001b[0m\u001b[0;34m)\u001b[0m\u001b[0;34m\u001b[0m\u001b[0m\n\u001b[0m\u001b[1;32m    158\u001b[0m         \u001b[0mcksc\u001b[0m \u001b[0;34m=\u001b[0m \u001b[0mckscool\u001b[0m\u001b[0;34m.\u001b[0m\u001b[0mio\u001b[0m\u001b[0;34m.\u001b[0m\u001b[0mload_table\u001b[0m\u001b[0;34m(\u001b[0m\u001b[0;34m'ckscool-targets-cuts'\u001b[0m\u001b[0;34m)\u001b[0m\u001b[0;34m\u001b[0m\u001b[0m\n\u001b[1;32m    159\u001b[0m         \u001b[0mcksc\u001b[0m \u001b[0;34m=\u001b[0m \u001b[0mcksc\u001b[0m\u001b[0;34m[\u001b[0m\u001b[0;34m~\u001b[0m\u001b[0mcksc\u001b[0m\u001b[0;34m.\u001b[0m\u001b[0misany\u001b[0m\u001b[0;34m]\u001b[0m\u001b[0;34m\u001b[0m\u001b[0m\n",
      "\u001b[0;32m/Users/petigura/Dropbox/Research/CKS-Cool/ckscool/io.pyc\u001b[0m in \u001b[0;36mload_table\u001b[0;34m(table, cache, verbose, cachefn)\u001b[0m\n\u001b[1;32m    522\u001b[0m \u001b[0;34m\u001b[0m\u001b[0m\n\u001b[1;32m    523\u001b[0m     \u001b[0;32melse\u001b[0m\u001b[0;34m:\u001b[0m\u001b[0;34m\u001b[0m\u001b[0m\n\u001b[0;32m--> 524\u001b[0;31m         \u001b[0;32massert\u001b[0m \u001b[0mFalse\u001b[0m\u001b[0;34m,\u001b[0m \u001b[0;34m\"table {} not valid table name\"\u001b[0m\u001b[0;34m.\u001b[0m\u001b[0mformat\u001b[0m\u001b[0;34m(\u001b[0m\u001b[0mtable\u001b[0m\u001b[0;34m)\u001b[0m\u001b[0;34m\u001b[0m\u001b[0m\n\u001b[0m\u001b[1;32m    525\u001b[0m     \u001b[0;32mreturn\u001b[0m \u001b[0mdf\u001b[0m\u001b[0;34m\u001b[0m\u001b[0m\n\u001b[1;32m    526\u001b[0m \u001b[0;34m\u001b[0m\u001b[0m\n",
      "\u001b[0;31mAssertionError\u001b[0m: table ckscool-targets-cuts not valid table name"
     ]
    }
   ],
   "source": [
    "%pylab inline\n",
    "sc = pd.read_table('data/wget_all_prior_SC.bat',comment='#',header=None,names=['line'])\n",
    "sc['id_kic'] = sc.line.apply(lambda x :x.split('\"')[1].split('/')[-1].split('-')[0].replace('kplr','')).astype(int)\n",
    "cks = keprat.io.load_table('cksgaia-planets')\n",
    "cks = pd.merge(cks,sc,how='left')\n",
    "temp = cks.groupby('id_koicand')['line'].count()\n",
    "print \"{}/{} CKS-VII planets have no short cadence\".format((temp ==0).sum(),temp.count())\n",
    "print \"{}/{} CKS-VII planets have at least 30 days of short cadence\".format((temp >0).sum(),temp.count())\n",
    "print \"{}/{} CKS-VII planets have 90 days of short cadence\".format((temp >= 3).sum(),temp.count())\n",
    "\n",
    "sc = pd.read_table('data/wget_all_prior_SC.bat',comment='#',header=None,names=['line'])\n",
    "sc['id_kic'] = sc.line.apply(lambda x :x.split('\"')[1].split('/')[-1].split('-')[0].replace('kplr','')).astype(int)"
   ]
  },
  {
   "cell_type": "code",
   "execution_count": 72,
   "metadata": {},
   "outputs": [
    {
     "data": {
      "text/plain": [
       "Index([u'f18_ror', u'f18_srad_err', u'f18_prad', u'f18_srho_err2',\n",
       "       u'f18_smass_err1', u'f18_ror_err2', u'f18_ror_err1', u'f18_period',\n",
       "       u'f18_srho_err1', u'f18_smass', u'f18_prad_err', u'f18_srad', u'id_koi',\n",
       "       u'id_koicand', u'f18_srho', u'f18_smass_err2', u'id_kic', u'v18_Kepler',\n",
       "       u'v18_ecc', u'v18_period', u'v18_prad', u'v18_rovera', u'v18_ror',\n",
       "       u'v18_smass', u'v18_srad', u'v18_srho', u'v18_steff', u'v18_smet',\n",
       "       u'v18_kepmag', u'v18_relrho', u'v18_impact', u'v18_ld1', u'v18_ld2',\n",
       "       u'v18_ecc_err1', u'v18_ecc_err2', u'v18_period_err1',\n",
       "       u'v18_period_err2', u'v18_prad_err1', u'v18_prad_err2',\n",
       "       u'v18_rovera_err1', u'v18_rovera_err2', u'v18_ror_err1',\n",
       "       u'v18_ror_err2', u'v18_smass_err1', u'v18_smass_err2', u'v18_srad_err1',\n",
       "       u'v18_srad_err2', u'v18_srho_err1', u'v18_srho_err2', u'v18_steff_err1',\n",
       "       u'v18_steff_err2', u'v18_smet_err1', u'v18_smet_err2',\n",
       "       u'v18_relrho_err1', u'v18_relrho_err2', u'v18_impact_err1',\n",
       "       u'v18_impact_err2', u'v18_ld1_err1', u'v18_ld1_err2', u'v18_ld2_err1',\n",
       "       u'v18_ld2_err2', u'v18_sample', u'dr25_BB1_cum', u'dr25_BB1_cum_err1',\n",
       "       u'dr25_BB1_cum_err2', u'dr25_EP1_cum', u'dr25_EP1_cum_err1',\n",
       "       u'dr25_EP1_cum_err2', u'dr25_PE1_cum', u'dr25_PE1_cum_err1',\n",
       "       u'dr25_PE1_cum_err2', u'dr25_RD1_cum', u'dr25_RD1_cum_err1',\n",
       "       u'dr25_RD1_cum_err2', u'dr25_RHO_cum', u'dr25_RHO_cum_err1',\n",
       "       u'dr25_RHO_cum_err2', u'dr25_TAU1_cum', u'dr25_TAU1_cum_err1',\n",
       "       u'dr25_TAU1_cum_err2', u'dr25_ZPT_cum', u'dr25_ZPT_cum_err1',\n",
       "       u'dr25_ZPT_cum_err2', u'fgraz', u'f18_tau0', u'dr25_tau', u'multi',\n",
       "       u'line'],\n",
       "      dtype='object')"
      ]
     },
     "execution_count": 72,
     "metadata": {},
     "output_type": "execute_result"
    }
   ],
   "source": [
    "cks.columns"
   ]
  },
  {
   "cell_type": "code",
   "execution_count": 48,
   "metadata": {},
   "outputs": [
    {
     "data": {
      "text/plain": [
       "Index([u't18_disposition', u't18_score', u't18_period', u't18_period_err1',\n",
       "       u't18_period_err2', u't18_ror', u't18_ror_err1', u't18_ror_err2',\n",
       "       u't18_prad', u't18_prad_err1', u't18_prad_err2', u't18_impact',\n",
       "       u't18_impact_err1', u't18_impact_err2', u'id_kic', u'id_koicand',\n",
       "       u'id_kepler_name', u't18_max_sngle_ev', u't18_max_mult_ev',\n",
       "       u't18_model_snr', u't18_count', u't18_num_transits',\n",
       "       u't18_tce_plnt_num', u't18_tce_delivname', u't18_quarters',\n",
       "       u't18_bin_oedp_sig', u'id_koi'],\n",
       "      dtype='object')"
      ]
     },
     "execution_count": 48,
     "metadata": {},
     "output_type": "execute_result"
    }
   ],
   "source": [
    "t18 = keprat.io.load_table('t18')\n",
    "t18.columns"
   ]
  },
  {
   "cell_type": "code",
   "execution_count": 83,
   "metadata": {
    "scrolled": true
   },
   "outputs": [
    {
     "name": "stdout",
     "output_type": "stream",
     "text": [
      "median cks target with >= 90 days of short cadence data\n",
      "Rp/Rstar = 0.017, model(SNR) = 48.3, period = 11.5\n"
     ]
    }
   ],
   "source": [
    "cks90 = cks.groupby('id_koicand').mean().loc[temp >= 3]\n",
    "cks90 = pd.merge(cks90,t18['id_koicand t18_model_snr'.split()],left_index=True,right_on='id_koicand')\n",
    "med = cks90.median()\n",
    "\n",
    "print \"median cks target with >= 90 days of short cadence data\"\n",
    "print \"Rp/Rstar = {:.3f}, model(SNR) = {}, period = {:.1f}\".format(med.dr25_RD1_cum,med.t18_model_snr,med.f18_period)"
   ]
  },
  {
   "cell_type": "code",
   "execution_count": 78,
   "metadata": {},
   "outputs": [
    {
     "data": {
      "text/plain": [
       "(0.5, 4)"
      ]
     },
     "execution_count": 78,
     "metadata": {},
     "output_type": "execute_result"
    },
    {
     "data": {
      "image/png": "[encoded data removed]",
      "text/plain": [
       "<matplotlib.figure.Figure at 0x1a266e1310>"
      ]
     },
     "metadata": {
      "needs_background": "light"
     },
     "output_type": "display_data"
    }
   ],
   "source": [
    "cks90.f18_ror.hist(bins=100)\n",
    "\n",
    "loglog()\n",
    "plot(cks90.f18_smass,cks90.f18_srad,'.')\n",
    "xlim(0.5,2)\n",
    "ylim(0.5,4)"
   ]
  },
  {
   "cell_type": "code",
   "execution_count": 39,
   "metadata": {},
   "outputs": [
    {
     "name": "stdout",
     "output_type": "stream",
     "text": [
      "Populating the interactive namespace from numpy and matplotlib\n"
     ]
    },
    {
     "name": "stderr",
     "output_type": "stream",
     "text": [
      "/Users/petigura/anaconda2/lib/python2.7/site-packages/ipykernel_launcher.py:2: FutureWarning: read_table is deprecated, use read_csv instead, passing sep='\\t'.\n",
      "  \n"
     ]
    },
    {
     "name": "stdout",
     "output_type": "stream",
     "text": [
      "2727/4078 CKS-VII planets have no short cadence\n",
      "1351/4078 CKS-VII planets have at least 30 days of short cadence\n",
      "1138/4078 CKS-VII planets have 90 days of short cadence\n"
     ]
    },
    {
     "name": "stderr",
     "output_type": "stream",
     "text": [
      "/Users/petigura/anaconda2/lib/python2.7/site-packages/ipykernel_launcher.py:15: FutureWarning: read_table is deprecated, use read_csv instead, passing sep='\\t'.\n",
      "  from ipykernel import kernelapp as app\n"
     ]
    }
   ],
   "source": [
    "%pylab inline\n",
    "sc = pd.read_table('data/wget_all_prior_SC.bat',comment='#',header=None,names=['line'])\n",
    "sc['id_kic'] = sc.line.apply(lambda x :x.split('\"')[1].split('/')[-1].split('-')[0].replace('kplr','')).astype(int)\n",
    "t18 = keprat.io.load_table('t18')\n",
    "\n",
    "t18 = keprat.io.load_table('t18')\n",
    "t18 = t18[~t18.t18_disposition.str.contains('FALS')]\n",
    "\n",
    "t18 = pd.merge(t18,sc,how='left')\n",
    "temp = t18.groupby('id_koicand')['line'].count()\n",
    "print \"{}/{} CKS-VII planets have no short cadence\".format((temp ==0).sum(),temp.count())\n",
    "print \"{}/{} CKS-VII planets have at least 30 days of short cadence\".format((temp >0).sum(),temp.count())\n",
    "print \"{}/{} CKS-VII planets have 90 days of short cadence\".format((temp >= 3).sum(),temp.count())\n",
    "\n",
    "sc = pd.read_table('data/wget_all_prior_SC.bat',comment='#',header=None,names=['line'])\n",
    "sc['id_kic'] = sc.line.apply(lambda x :x.split('\"')[1].split('/')[-1].split('-')[0].replace('kplr','')).astype(int)"
   ]
  },
  {
   "cell_type": "code",
   "execution_count": 12,
   "metadata": {},
   "outputs": [
    {
     "name": "stdout",
     "output_type": "stream",
     "text": [
      "Populating the interactive namespace from numpy and matplotlib\n",
      "376/907 CKS-VII planets have no short cadence\n",
      "85/907 CKS-VII planets have 30 days of short cadence\n",
      "437/907 CKS-VII planets have 90 days of short cadence\n"
     ]
    },
    {
     "data": {
      "image/png": "[encoded data removed]",
      "text/plain": [
       "<matplotlib.figure.Figure at 0x1a1d857290>"
      ]
     },
     "metadata": {
      "needs_background": "light"
     },
     "output_type": "display_data"
    }
   ],
   "source": [
    "%pylab inline\n",
    "\n",
    "g = cks.groupby('id_koicand')\n",
    "temp = g['line'].count()\n",
    "hist(temp,bins=arange(0,50,1))\n",
    "print \"{}/{} CKS-VII planets have no short cadence\".format((temp ==0).sum(),temp.count())\n",
    "print \"{}/{} CKS-VII planets have 30 days of short cadence\".format((temp ==1).sum(),temp.count())\n",
    "print \"{}/{} CKS-VII planets have 90 days of short cadence\".format((temp >= 3).sum(),temp.count())"
   ]
  },
  {
   "cell_type": "code",
   "execution_count": 16,
   "metadata": {},
   "outputs": [],
   "source": [
    "test = g.first()"
   ]
  },
  {
   "cell_type": "code",
   "execution_count": 21,
   "metadata": {},
   "outputs": [
    {
     "data": {
      "text/plain": [
       "<pandas.core.groupby.generic.DataFrameGroupBy object at 0x1a1fd80790>"
      ]
     },
     "execution_count": 21,
     "metadata": {},
     "output_type": "execute_result"
    }
   ],
   "source": [
    "t18.groupby('line').count"
   ]
  },
  {
   "cell_type": "code",
   "execution_count": 38,
   "metadata": {},
   "outputs": [
    {
     "name": "stdout",
     "output_type": "stream",
     "text": [
      "read table cksgaia-planets from ../CKS-Gaia/load_table_cache.hdf\n",
      "read table v18 from load_table_cache.hdf\n",
      "read table dr25 from load_table_cache.hdf\n"
     ]
    },
    {
     "data": {
      "text/plain": [
       "1249"
      ]
     },
     "execution_count": 38,
     "metadata": {},
     "output_type": "execute_result"
    }
   ],
   "source": [
    "cks = keprat.io.load_table('cksgaia-planets')\n",
    "cks = cks.query('kic_kepmag < 14.2')"
   ]
  }
 ],
 "metadata": {
  "kernelspec": {
   "display_name": "Python 2",
   "language": "python",
   "name": "python2"
  },
  "language_info": {
   "codemirror_mode": {
    "name": "ipython",
    "version": 2
   },
   "file_extension": ".py",
   "mimetype": "text/x-python",
   "name": "python",
   "nbconvert_exporter": "python",
   "pygments_lexer": "ipython2",
   "version": "2.7.17"
  }
 },
 "nbformat": 4,
 "nbformat_minor": 2
}
